{
 "cells": [
  {
   "cell_type": "code",
   "execution_count": 4,
   "id": "ca9f5a4c",
   "metadata": {},
   "outputs": [
    {
     "data": {
      "application/vnd.microsoft.datawrangler.viewer.v0+json": {
       "columns": [
        {
         "name": "index",
         "rawType": "int64",
         "type": "integer"
        },
        {
         "name": "tv",
         "rawType": "float64",
         "type": "float"
        },
        {
         "name": "radio",
         "rawType": "float64",
         "type": "float"
        },
        {
         "name": "social_media",
         "rawType": "float64",
         "type": "float"
        },
        {
         "name": "influencer",
         "rawType": "object",
         "type": "string"
        },
        {
         "name": "sales",
         "rawType": "float64",
         "type": "float"
        }
       ],
       "conversionMethod": "pd.DataFrame",
       "ref": "aeec249c-ad38-428c-a2c6-b0eb4996beca",
       "rows": [
        [
         "0",
         "16000.0",
         "6566.23",
         "2907.98",
         "Mega",
         "54732.76"
        ],
        [
         "1",
         "13000.0",
         "9237.76",
         "2409.57",
         "Mega",
         "46677.9"
        ],
        [
         "2",
         "41000.0",
         "15886.45",
         "2913.41",
         "Mega",
         "150177.83"
        ],
        [
         "3",
         "83000.0",
         "30020.03",
         "6922.3",
         "Mega",
         "298246.34"
        ],
        [
         "4",
         "15000.0",
         "8437.41",
         "1406.0",
         "Micro",
         "56594.18"
        ]
       ],
       "shape": {
        "columns": 5,
        "rows": 5
       }
      },
      "text/html": [
       "<div>\n",
       "<style scoped>\n",
       "    .dataframe tbody tr th:only-of-type {\n",
       "        vertical-align: middle;\n",
       "    }\n",
       "\n",
       "    .dataframe tbody tr th {\n",
       "        vertical-align: top;\n",
       "    }\n",
       "\n",
       "    .dataframe thead th {\n",
       "        text-align: right;\n",
       "    }\n",
       "</style>\n",
       "<table border=\"1\" class=\"dataframe\">\n",
       "  <thead>\n",
       "    <tr style=\"text-align: right;\">\n",
       "      <th></th>\n",
       "      <th>tv</th>\n",
       "      <th>radio</th>\n",
       "      <th>social_media</th>\n",
       "      <th>influencer</th>\n",
       "      <th>sales</th>\n",
       "    </tr>\n",
       "  </thead>\n",
       "  <tbody>\n",
       "    <tr>\n",
       "      <th>0</th>\n",
       "      <td>16000.0</td>\n",
       "      <td>6566.23</td>\n",
       "      <td>2907.98</td>\n",
       "      <td>Mega</td>\n",
       "      <td>54732.76</td>\n",
       "    </tr>\n",
       "    <tr>\n",
       "      <th>1</th>\n",
       "      <td>13000.0</td>\n",
       "      <td>9237.76</td>\n",
       "      <td>2409.57</td>\n",
       "      <td>Mega</td>\n",
       "      <td>46677.90</td>\n",
       "    </tr>\n",
       "    <tr>\n",
       "      <th>2</th>\n",
       "      <td>41000.0</td>\n",
       "      <td>15886.45</td>\n",
       "      <td>2913.41</td>\n",
       "      <td>Mega</td>\n",
       "      <td>150177.83</td>\n",
       "    </tr>\n",
       "    <tr>\n",
       "      <th>3</th>\n",
       "      <td>83000.0</td>\n",
       "      <td>30020.03</td>\n",
       "      <td>6922.30</td>\n",
       "      <td>Mega</td>\n",
       "      <td>298246.34</td>\n",
       "    </tr>\n",
       "    <tr>\n",
       "      <th>4</th>\n",
       "      <td>15000.0</td>\n",
       "      <td>8437.41</td>\n",
       "      <td>1406.00</td>\n",
       "      <td>Micro</td>\n",
       "      <td>56594.18</td>\n",
       "    </tr>\n",
       "  </tbody>\n",
       "</table>\n",
       "</div>"
      ],
      "text/plain": [
       "        tv     radio  social_media influencer      sales\n",
       "0  16000.0   6566.23       2907.98       Mega   54732.76\n",
       "1  13000.0   9237.76       2409.57       Mega   46677.90\n",
       "2  41000.0  15886.45       2913.41       Mega  150177.83\n",
       "3  83000.0  30020.03       6922.30       Mega  298246.34\n",
       "4  15000.0   8437.41       1406.00      Micro   56594.18"
      ]
     },
     "execution_count": 4,
     "metadata": {},
     "output_type": "execute_result"
    }
   ],
   "source": [
    "import pandas as pd\n",
    "import numpy as np\n",
    "\n",
    "sales_df = pd.read_csv(\"advertising_and_sales_clean.csv\")\n",
    "\n",
    "\n",
    "sales_df.head(5)"
   ]
  },
  {
   "cell_type": "code",
   "execution_count": 10,
   "id": "096f1cc4",
   "metadata": {},
   "outputs": [
    {
     "name": "stdout",
     "output_type": "stream",
     "text": [
      "Predições: [ 53176.66154234  70996.19873235 267032.64132081], Valores Atuais: [ 55261.28  67574.9  272250.11]\n"
     ]
    }
   ],
   "source": [
    "from sklearn.linear_model import LinearRegression\n",
    "from sklearn.model_selection import train_test_split\n",
    "\n",
    "X = sales_df.drop([\"sales\",\"influencer\"], axis=1).values\n",
    "y = sales_df[\"sales\"].values\n",
    "\n",
    "X_train, X_test, y_train, y_test = train_test_split(X, y, test_size=0.3, random_state=42)\n",
    "\n",
    "reg = LinearRegression()\n",
    "reg.fit(X_train, y_train)\n",
    "y_pred = reg.predict(X_test)\n",
    "\n",
    "print(\"Predições: {}, Valores Atuais: {}\".format(y_pred[:3],y_test[:3]))"
   ]
  },
  {
   "cell_type": "markdown",
   "id": "8d6c86dc",
   "metadata": {},
   "source": [
    "# Desempenho da Regressão \n",
    "    - descobrir o quanto as features explicam a variância dos valores-alvo\n",
    "    - avaliar a capacidade do modelo de fazer previsões em dados não vistos"
   ]
  },
  {
   "cell_type": "code",
   "execution_count": 14,
   "id": "f15672d3",
   "metadata": {},
   "outputs": [
    {
     "name": "stdout",
     "output_type": "stream",
     "text": [
      "R^2: 8669686.866907291\n",
      "RMSE: 2944.4331996001015\n"
     ]
    }
   ],
   "source": [
    "from sklearn.metrics import mean_squared_error\n",
    "\n",
    "r_squared = reg.score(X_test, y_test)\n",
    "\n",
    "\n",
    "\n",
    "mse= mean_squared_error(y_test, y_pred)\n",
    "rmse = np.sqrt(mse)\n",
    "\n",
    "print(\"R^2: {}\".format(mse))\n",
    "print(\"RMSE: {}\".format(rmse))"
   ]
  }
 ],
 "metadata": {
  "kernelspec": {
   "display_name": ".venv",
   "language": "python",
   "name": "python3"
  },
  "language_info": {
   "codemirror_mode": {
    "name": "ipython",
    "version": 3
   },
   "file_extension": ".py",
   "mimetype": "text/x-python",
   "name": "python",
   "nbconvert_exporter": "python",
   "pygments_lexer": "ipython3",
   "version": "3.13.2"
  }
 },
 "nbformat": 4,
 "nbformat_minor": 5
}
