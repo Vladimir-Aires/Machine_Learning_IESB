{
 "cells": [
  {
   "cell_type": "code",
   "execution_count": 26,
   "id": "c386c91f",
   "metadata": {},
   "outputs": [
    {
     "data": {
      "application/vnd.microsoft.datawrangler.viewer.v0+json": {
       "columns": [
        {
         "name": "index",
         "rawType": "int64",
         "type": "integer"
        },
        {
         "name": "tv",
         "rawType": "float64",
         "type": "float"
        },
        {
         "name": "radio",
         "rawType": "float64",
         "type": "float"
        },
        {
         "name": "social_media",
         "rawType": "float64",
         "type": "float"
        },
        {
         "name": "influencer",
         "rawType": "object",
         "type": "string"
        },
        {
         "name": "sales",
         "rawType": "float64",
         "type": "float"
        }
       ],
       "conversionMethod": "pd.DataFrame",
       "ref": "4d7fb759-3b99-4da4-b98c-a34b2852d8ef",
       "rows": [
        [
         "0",
         "16000.0",
         "6566.23",
         "2907.98",
         "Mega",
         "54732.76"
        ],
        [
         "1",
         "13000.0",
         "9237.76",
         "2409.57",
         "Mega",
         "46677.9"
        ],
        [
         "2",
         "41000.0",
         "15886.45",
         "2913.41",
         "Mega",
         "150177.83"
        ],
        [
         "3",
         "83000.0",
         "30020.03",
         "6922.3",
         "Mega",
         "298246.34"
        ],
        [
         "4",
         "15000.0",
         "8437.41",
         "1406.0",
         "Micro",
         "56594.18"
        ]
       ],
       "shape": {
        "columns": 5,
        "rows": 5
       }
      },
      "text/html": [
       "<div>\n",
       "<style scoped>\n",
       "    .dataframe tbody tr th:only-of-type {\n",
       "        vertical-align: middle;\n",
       "    }\n",
       "\n",
       "    .dataframe tbody tr th {\n",
       "        vertical-align: top;\n",
       "    }\n",
       "\n",
       "    .dataframe thead th {\n",
       "        text-align: right;\n",
       "    }\n",
       "</style>\n",
       "<table border=\"1\" class=\"dataframe\">\n",
       "  <thead>\n",
       "    <tr style=\"text-align: right;\">\n",
       "      <th></th>\n",
       "      <th>tv</th>\n",
       "      <th>radio</th>\n",
       "      <th>social_media</th>\n",
       "      <th>influencer</th>\n",
       "      <th>sales</th>\n",
       "    </tr>\n",
       "  </thead>\n",
       "  <tbody>\n",
       "    <tr>\n",
       "      <th>0</th>\n",
       "      <td>16000.0</td>\n",
       "      <td>6566.23</td>\n",
       "      <td>2907.98</td>\n",
       "      <td>Mega</td>\n",
       "      <td>54732.76</td>\n",
       "    </tr>\n",
       "    <tr>\n",
       "      <th>1</th>\n",
       "      <td>13000.0</td>\n",
       "      <td>9237.76</td>\n",
       "      <td>2409.57</td>\n",
       "      <td>Mega</td>\n",
       "      <td>46677.90</td>\n",
       "    </tr>\n",
       "    <tr>\n",
       "      <th>2</th>\n",
       "      <td>41000.0</td>\n",
       "      <td>15886.45</td>\n",
       "      <td>2913.41</td>\n",
       "      <td>Mega</td>\n",
       "      <td>150177.83</td>\n",
       "    </tr>\n",
       "    <tr>\n",
       "      <th>3</th>\n",
       "      <td>83000.0</td>\n",
       "      <td>30020.03</td>\n",
       "      <td>6922.30</td>\n",
       "      <td>Mega</td>\n",
       "      <td>298246.34</td>\n",
       "    </tr>\n",
       "    <tr>\n",
       "      <th>4</th>\n",
       "      <td>15000.0</td>\n",
       "      <td>8437.41</td>\n",
       "      <td>1406.00</td>\n",
       "      <td>Micro</td>\n",
       "      <td>56594.18</td>\n",
       "    </tr>\n",
       "  </tbody>\n",
       "</table>\n",
       "</div>"
      ],
      "text/plain": [
       "        tv     radio  social_media influencer      sales\n",
       "0  16000.0   6566.23       2907.98       Mega   54732.76\n",
       "1  13000.0   9237.76       2409.57       Mega   46677.90\n",
       "2  41000.0  15886.45       2913.41       Mega  150177.83\n",
       "3  83000.0  30020.03       6922.30       Mega  298246.34\n",
       "4  15000.0   8437.41       1406.00      Micro   56594.18"
      ]
     },
     "execution_count": 26,
     "metadata": {},
     "output_type": "execute_result"
    }
   ],
   "source": [
    "import pandas as pd\n",
    "import numpy as np\n",
    "\n",
    "sales_df = pd.read_csv(\"advertising_and_sales_clean.csv\")\n",
    "# diabetes_df = pd.read_csv(\"diabetes_clean.csv\")\n",
    "\n",
    "# diabetes_df.sort_values(by=['glucose','triceps','insulin'])\n",
    "# diabetesDfNovo = diabetes_df[(diabetes_df['glucose'] != 0) & (diabetes_df['insulin'] != 0) & (diabetes_df['triceps'] != 0) &(diabetes_df['bmi'] != 0)]\n",
    "\n",
    "# diabetesDfNovo.sort_values(by='glucose')\n",
    "\n",
    "sales_df.head()\n",
    "\n",
    "# sales_df[(sales_df['radio'] == \"Mega\") & (sales_df['sales'] == \"Mega\") ]\n"
   ]
  },
  {
   "cell_type": "code",
   "execution_count": null,
   "id": "1fa830d9",
   "metadata": {},
   "outputs": [
    {
     "name": "stdout",
     "output_type": "stream",
     "text": [
      "<class 'numpy.ndarray'> <class 'numpy.ndarray'>\n",
      "[6566.23 9237.76 15886.45 ... 19800.07 17534.64 15966.69]\n",
      "(4546,) (4546,)\n"
     ]
    }
   ],
   "source": [
    "X = sales_df.drop(\"sales\", axis=1).values\n",
    "\n",
    "y = sales_df[\"sales\"].values\n",
    "\n",
    "X_radio = X[:,1]\n",
    "\n",
    "print(type(X_radio), type(y))\n",
    "\n",
    "print(X_radio)\n",
    "print(X_radio.shape, y.shape)\n",
    "\n",
    "X_radio = X_radio.reshape(-1, 1)\n",
    "\n",
    "\n",
    "\n"
   ]
  },
  {
   "cell_type": "code",
   "execution_count": 46,
   "id": "d032756f",
   "metadata": {},
   "outputs": [
    {
     "name": "stdout",
     "output_type": "stream",
     "text": [
      "[ 95491.17119147 117829.51038393 173423.38071499 291603.11444202\n",
      " 111137.28167129]\n"
     ]
    }
   ],
   "source": [
    "from sklearn.linear_model import LinearRegression\n",
    "\n",
    "reg = LinearRegression()\n",
    "reg.fit(X_radio, y)\n",
    "predictions = reg.predict(X_radio)\n",
    "\n",
    "print(predictions[:5])"
   ]
  },
  {
   "cell_type": "code",
   "execution_count": 48,
   "id": "5b2a0f43",
   "metadata": {},
   "outputs": [
    {
     "data": {
      "image/png": "[encoded data removed]",
      "text/plain": [
       "<Figure size 640x480 with 1 Axes>"
      ]
     },
     "metadata": {},
     "output_type": "display_data"
    }
   ],
   "source": [
    "import matplotlib.pyplot as plt\n",
    "\n",
    "plt.scatter(X_radio, y)\n",
    "plt.plot(X_radio, predictions, color=\"green\")\n",
    "plt.ylabel(\"Vendas ($)\")\n",
    "plt.xlabel(\"Gastos com Rádio ($)\")\n",
    "plt.show()"
   ]
  }
 ],
 "metadata": {
  "kernelspec": {
   "display_name": ".venv",
   "language": "python",
   "name": "python3"
  },
  "language_info": {
   "codemirror_mode": {
    "name": "ipython",
    "version": 3
   },
   "file_extension": ".py",
   "mimetype": "text/x-python",
   "name": "python",
   "nbconvert_exporter": "python",
   "pygments_lexer": "ipython3",
   "version": "3.13.2"
  }
 },
 "nbformat": 4,
 "nbformat_minor": 5
}
